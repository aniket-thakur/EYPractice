{
  "metadata": {
    "language_info": {
      "codemirror_mode": {
        "name": "python",
        "version": 3
      },
      "file_extension": ".py",
      "mimetype": "text/x-python",
      "name": "python",
      "nbconvert_exporter": "python",
      "pygments_lexer": "ipython3",
      "version": "3.8"
    },
    "kernelspec": {
      "name": "python",
      "display_name": "Python (Pyodide)",
      "language": "python"
    }
  },
  "nbformat_minor": 4,
  "nbformat": 4,
  "cells": [
    {
      "cell_type": "code",
      "source": "import pandas as pd\ndata = pd.read_csv('udata.txt', sep='|')",
      "metadata": {
        "trusted": true
      },
      "execution_count": 6,
      "outputs": []
    },
    {
      "cell_type": "code",
      "source": "data",
      "metadata": {
        "trusted": true
      },
      "execution_count": 8,
      "outputs": [
        {
          "execution_count": 8,
          "output_type": "execute_result",
          "data": {
            "text/plain": "       1  24  M     technician  85711\n0      2  53  F          other  94043\n1      3  23  M         writer  32067\n2      4  24  M     technician  43537\n3      5  33  F          other  15213\n4      6  42  M      executive  98101\n..   ...  .. ..            ...    ...\n937  939  26  F        student  33319\n938  940  32  M  administrator  02215\n939  941  20  M        student  97229\n940  942  48  F      librarian  78209\n941  943  22  M        student  77841\n\n[942 rows x 5 columns]",
            "text/html": "<div>\n<style scoped>\n    .dataframe tbody tr th:only-of-type {\n        vertical-align: middle;\n    }\n\n    .dataframe tbody tr th {\n        vertical-align: top;\n    }\n\n    .dataframe thead th {\n        text-align: right;\n    }\n</style>\n<table border=\"1\" class=\"dataframe\">\n  <thead>\n    <tr style=\"text-align: right;\">\n      <th></th>\n      <th>1</th>\n      <th>24</th>\n      <th>M</th>\n      <th>technician</th>\n      <th>85711</th>\n    </tr>\n  </thead>\n  <tbody>\n    <tr>\n      <th>0</th>\n      <td>2</td>\n      <td>53</td>\n      <td>F</td>\n      <td>other</td>\n      <td>94043</td>\n    </tr>\n    <tr>\n      <th>1</th>\n      <td>3</td>\n      <td>23</td>\n      <td>M</td>\n      <td>writer</td>\n      <td>32067</td>\n    </tr>\n    <tr>\n      <th>2</th>\n      <td>4</td>\n      <td>24</td>\n      <td>M</td>\n      <td>technician</td>\n      <td>43537</td>\n    </tr>\n    <tr>\n      <th>3</th>\n      <td>5</td>\n      <td>33</td>\n      <td>F</td>\n      <td>other</td>\n      <td>15213</td>\n    </tr>\n    <tr>\n      <th>4</th>\n      <td>6</td>\n      <td>42</td>\n      <td>M</td>\n      <td>executive</td>\n      <td>98101</td>\n    </tr>\n    <tr>\n      <th>...</th>\n      <td>...</td>\n      <td>...</td>\n      <td>...</td>\n      <td>...</td>\n      <td>...</td>\n    </tr>\n    <tr>\n      <th>937</th>\n      <td>939</td>\n      <td>26</td>\n      <td>F</td>\n      <td>student</td>\n      <td>33319</td>\n    </tr>\n    <tr>\n      <th>938</th>\n      <td>940</td>\n      <td>32</td>\n      <td>M</td>\n      <td>administrator</td>\n      <td>02215</td>\n    </tr>\n    <tr>\n      <th>939</th>\n      <td>941</td>\n      <td>20</td>\n      <td>M</td>\n      <td>student</td>\n      <td>97229</td>\n    </tr>\n    <tr>\n      <th>940</th>\n      <td>942</td>\n      <td>48</td>\n      <td>F</td>\n      <td>librarian</td>\n      <td>78209</td>\n    </tr>\n    <tr>\n      <th>941</th>\n      <td>943</td>\n      <td>22</td>\n      <td>M</td>\n      <td>student</td>\n      <td>77841</td>\n    </tr>\n  </tbody>\n</table>\n<p>942 rows × 5 columns</p>\n</div>"
          },
          "metadata": {}
        }
      ]
    },
    {
      "cell_type": "markdown",
      "source": "1. See the first 25 entries",
      "metadata": {}
    },
    {
      "cell_type": "code",
      "source": "# pd.read_csv('udata.txt', sep='|',nrows =  25)\nfirst_25_entries = data.head(25)\nfirst_25_entries",
      "metadata": {
        "trusted": true
      },
      "execution_count": 15,
      "outputs": [
        {
          "execution_count": 15,
          "output_type": "execute_result",
          "data": {
            "text/plain": "     1  24  M     technician  85711\n0    2  53  F          other  94043\n1    3  23  M         writer  32067\n2    4  24  M     technician  43537\n3    5  33  F          other  15213\n4    6  42  M      executive  98101\n5    7  57  M  administrator  91344\n6    8  36  M  administrator  05201\n7    9  29  M        student  01002\n8   10  53  M         lawyer  90703\n9   11  39  F          other  30329\n10  12  28  F          other  06405\n11  13  47  M       educator  29206\n12  14  45  M      scientist  55106\n13  15  49  F       educator  97301\n14  16  21  M  entertainment  10309\n15  17  30  M     programmer  06355\n16  18  35  F          other  37212\n17  19  40  M      librarian  02138\n18  20  42  F      homemaker  95660\n19  21  26  M         writer  30068\n20  22  25  M         writer  40206\n21  23  30  F         artist  48197\n22  24  21  F         artist  94533\n23  25  39  M       engineer  55107\n24  26  49  M       engineer  21044",
            "text/html": "<div>\n<style scoped>\n    .dataframe tbody tr th:only-of-type {\n        vertical-align: middle;\n    }\n\n    .dataframe tbody tr th {\n        vertical-align: top;\n    }\n\n    .dataframe thead th {\n        text-align: right;\n    }\n</style>\n<table border=\"1\" class=\"dataframe\">\n  <thead>\n    <tr style=\"text-align: right;\">\n      <th></th>\n      <th>1</th>\n      <th>24</th>\n      <th>M</th>\n      <th>technician</th>\n      <th>85711</th>\n    </tr>\n  </thead>\n  <tbody>\n    <tr>\n      <th>0</th>\n      <td>2</td>\n      <td>53</td>\n      <td>F</td>\n      <td>other</td>\n      <td>94043</td>\n    </tr>\n    <tr>\n      <th>1</th>\n      <td>3</td>\n      <td>23</td>\n      <td>M</td>\n      <td>writer</td>\n      <td>32067</td>\n    </tr>\n    <tr>\n      <th>2</th>\n      <td>4</td>\n      <td>24</td>\n      <td>M</td>\n      <td>technician</td>\n      <td>43537</td>\n    </tr>\n    <tr>\n      <th>3</th>\n      <td>5</td>\n      <td>33</td>\n      <td>F</td>\n      <td>other</td>\n      <td>15213</td>\n    </tr>\n    <tr>\n      <th>4</th>\n      <td>6</td>\n      <td>42</td>\n      <td>M</td>\n      <td>executive</td>\n      <td>98101</td>\n    </tr>\n    <tr>\n      <th>5</th>\n      <td>7</td>\n      <td>57</td>\n      <td>M</td>\n      <td>administrator</td>\n      <td>91344</td>\n    </tr>\n    <tr>\n      <th>6</th>\n      <td>8</td>\n      <td>36</td>\n      <td>M</td>\n      <td>administrator</td>\n      <td>05201</td>\n    </tr>\n    <tr>\n      <th>7</th>\n      <td>9</td>\n      <td>29</td>\n      <td>M</td>\n      <td>student</td>\n      <td>01002</td>\n    </tr>\n    <tr>\n      <th>8</th>\n      <td>10</td>\n      <td>53</td>\n      <td>M</td>\n      <td>lawyer</td>\n      <td>90703</td>\n    </tr>\n    <tr>\n      <th>9</th>\n      <td>11</td>\n      <td>39</td>\n      <td>F</td>\n      <td>other</td>\n      <td>30329</td>\n    </tr>\n    <tr>\n      <th>10</th>\n      <td>12</td>\n      <td>28</td>\n      <td>F</td>\n      <td>other</td>\n      <td>06405</td>\n    </tr>\n    <tr>\n      <th>11</th>\n      <td>13</td>\n      <td>47</td>\n      <td>M</td>\n      <td>educator</td>\n      <td>29206</td>\n    </tr>\n    <tr>\n      <th>12</th>\n      <td>14</td>\n      <td>45</td>\n      <td>M</td>\n      <td>scientist</td>\n      <td>55106</td>\n    </tr>\n    <tr>\n      <th>13</th>\n      <td>15</td>\n      <td>49</td>\n      <td>F</td>\n      <td>educator</td>\n      <td>97301</td>\n    </tr>\n    <tr>\n      <th>14</th>\n      <td>16</td>\n      <td>21</td>\n      <td>M</td>\n      <td>entertainment</td>\n      <td>10309</td>\n    </tr>\n    <tr>\n      <th>15</th>\n      <td>17</td>\n      <td>30</td>\n      <td>M</td>\n      <td>programmer</td>\n      <td>06355</td>\n    </tr>\n    <tr>\n      <th>16</th>\n      <td>18</td>\n      <td>35</td>\n      <td>F</td>\n      <td>other</td>\n      <td>37212</td>\n    </tr>\n    <tr>\n      <th>17</th>\n      <td>19</td>\n      <td>40</td>\n      <td>M</td>\n      <td>librarian</td>\n      <td>02138</td>\n    </tr>\n    <tr>\n      <th>18</th>\n      <td>20</td>\n      <td>42</td>\n      <td>F</td>\n      <td>homemaker</td>\n      <td>95660</td>\n    </tr>\n    <tr>\n      <th>19</th>\n      <td>21</td>\n      <td>26</td>\n      <td>M</td>\n      <td>writer</td>\n      <td>30068</td>\n    </tr>\n    <tr>\n      <th>20</th>\n      <td>22</td>\n      <td>25</td>\n      <td>M</td>\n      <td>writer</td>\n      <td>40206</td>\n    </tr>\n    <tr>\n      <th>21</th>\n      <td>23</td>\n      <td>30</td>\n      <td>F</td>\n      <td>artist</td>\n      <td>48197</td>\n    </tr>\n    <tr>\n      <th>22</th>\n      <td>24</td>\n      <td>21</td>\n      <td>F</td>\n      <td>artist</td>\n      <td>94533</td>\n    </tr>\n    <tr>\n      <th>23</th>\n      <td>25</td>\n      <td>39</td>\n      <td>M</td>\n      <td>engineer</td>\n      <td>55107</td>\n    </tr>\n    <tr>\n      <th>24</th>\n      <td>26</td>\n      <td>49</td>\n      <td>M</td>\n      <td>engineer</td>\n      <td>21044</td>\n    </tr>\n  </tbody>\n</table>\n</div>"
          },
          "metadata": {}
        }
      ]
    },
    {
      "cell_type": "markdown",
      "source": " See the last 10 entries",
      "metadata": {}
    },
    {
      "cell_type": "code",
      "source": "\nlast_10_entries = data.tail(10)\nlast_10_entries",
      "metadata": {
        "trusted": true
      },
      "execution_count": 16,
      "outputs": [
        {
          "execution_count": 16,
          "output_type": "execute_result",
          "data": {
            "text/plain": "       1  24  M     technician  85711\n932  934  61  M       engineer  22902\n933  935  42  M         doctor  66221\n934  936  24  M          other  32789\n935  937  48  M       educator  98072\n936  938  38  F     technician  55038\n937  939  26  F        student  33319\n938  940  32  M  administrator  02215\n939  941  20  M        student  97229\n940  942  48  F      librarian  78209\n941  943  22  M        student  77841",
            "text/html": "<div>\n<style scoped>\n    .dataframe tbody tr th:only-of-type {\n        vertical-align: middle;\n    }\n\n    .dataframe tbody tr th {\n        vertical-align: top;\n    }\n\n    .dataframe thead th {\n        text-align: right;\n    }\n</style>\n<table border=\"1\" class=\"dataframe\">\n  <thead>\n    <tr style=\"text-align: right;\">\n      <th></th>\n      <th>1</th>\n      <th>24</th>\n      <th>M</th>\n      <th>technician</th>\n      <th>85711</th>\n    </tr>\n  </thead>\n  <tbody>\n    <tr>\n      <th>932</th>\n      <td>934</td>\n      <td>61</td>\n      <td>M</td>\n      <td>engineer</td>\n      <td>22902</td>\n    </tr>\n    <tr>\n      <th>933</th>\n      <td>935</td>\n      <td>42</td>\n      <td>M</td>\n      <td>doctor</td>\n      <td>66221</td>\n    </tr>\n    <tr>\n      <th>934</th>\n      <td>936</td>\n      <td>24</td>\n      <td>M</td>\n      <td>other</td>\n      <td>32789</td>\n    </tr>\n    <tr>\n      <th>935</th>\n      <td>937</td>\n      <td>48</td>\n      <td>M</td>\n      <td>educator</td>\n      <td>98072</td>\n    </tr>\n    <tr>\n      <th>936</th>\n      <td>938</td>\n      <td>38</td>\n      <td>F</td>\n      <td>technician</td>\n      <td>55038</td>\n    </tr>\n    <tr>\n      <th>937</th>\n      <td>939</td>\n      <td>26</td>\n      <td>F</td>\n      <td>student</td>\n      <td>33319</td>\n    </tr>\n    <tr>\n      <th>938</th>\n      <td>940</td>\n      <td>32</td>\n      <td>M</td>\n      <td>administrator</td>\n      <td>02215</td>\n    </tr>\n    <tr>\n      <th>939</th>\n      <td>941</td>\n      <td>20</td>\n      <td>M</td>\n      <td>student</td>\n      <td>97229</td>\n    </tr>\n    <tr>\n      <th>940</th>\n      <td>942</td>\n      <td>48</td>\n      <td>F</td>\n      <td>librarian</td>\n      <td>78209</td>\n    </tr>\n    <tr>\n      <th>941</th>\n      <td>943</td>\n      <td>22</td>\n      <td>M</td>\n      <td>student</td>\n      <td>77841</td>\n    </tr>\n  </tbody>\n</table>\n</div>"
          },
          "metadata": {}
        }
      ]
    },
    {
      "cell_type": "markdown",
      "source": " What is the number of observations in the dataset?",
      "metadata": {}
    },
    {
      "cell_type": "code",
      "source": "data.shape[0]  # 0 for number of rows and 1 for number of columns in a dataset",
      "metadata": {
        "trusted": true
      },
      "execution_count": 20,
      "outputs": [
        {
          "execution_count": 20,
          "output_type": "execute_result",
          "data": {
            "text/plain": "942"
          },
          "metadata": {}
        }
      ]
    },
    {
      "cell_type": "markdown",
      "source": ". What is the number of columns in the dataset?",
      "metadata": {}
    },
    {
      "cell_type": "code",
      "source": "data.shape[1]",
      "metadata": {
        "trusted": true
      },
      "execution_count": 21,
      "outputs": [
        {
          "execution_count": 21,
          "output_type": "execute_result",
          "data": {
            "text/plain": "5"
          },
          "metadata": {}
        }
      ]
    },
    {
      "cell_type": "markdown",
      "source": "5. Print the name of all the columns.\n",
      "metadata": {}
    },
    {
      "cell_type": "code",
      "source": "data.columns",
      "metadata": {
        "trusted": true
      },
      "execution_count": 29,
      "outputs": [
        {
          "execution_count": 29,
          "output_type": "execute_result",
          "data": {
            "text/plain": "Index(['1', '24', 'M', 'technician', '85711'], dtype='object')"
          },
          "metadata": {}
        }
      ]
    },
    {
      "cell_type": "markdown",
      "source": "6. How is the dataset indexed?",
      "metadata": {}
    },
    {
      "cell_type": "code",
      "source": "data.index",
      "metadata": {
        "trusted": true
      },
      "execution_count": 31,
      "outputs": [
        {
          "execution_count": 31,
          "output_type": "execute_result",
          "data": {
            "text/plain": "RangeIndex(start=0, stop=942, step=1)"
          },
          "metadata": {}
        }
      ]
    },
    {
      "cell_type": "markdown",
      "source": "7. What is the data type of each column?",
      "metadata": {}
    },
    {
      "cell_type": "code",
      "source": "data.dtypes",
      "metadata": {
        "trusted": true
      },
      "execution_count": 35,
      "outputs": [
        {
          "execution_count": 35,
          "output_type": "execute_result",
          "data": {
            "text/plain": "1              int64\n24             int64\nM             object\ntechnician    object\n85711         object\ndtype: object"
          },
          "metadata": {}
        }
      ]
    },
    {
      "cell_type": "markdown",
      "source": "8. Print only the occupation column",
      "metadata": {}
    },
    {
      "cell_type": "code",
      "source": "data.loc[ : , 'technician']",
      "metadata": {
        "trusted": true
      },
      "execution_count": 41,
      "outputs": [
        {
          "execution_count": 41,
          "output_type": "execute_result",
          "data": {
            "text/plain": "0              other\n1             writer\n2         technician\n3              other\n4          executive\n           ...      \n937          student\n938    administrator\n939          student\n940        librarian\n941          student\nName: technician, Length: 942, dtype: object"
          },
          "metadata": {}
        }
      ]
    },
    {
      "cell_type": "markdown",
      "source": "9.How many different occupations are in this dataset?",
      "metadata": {}
    },
    {
      "cell_type": "code",
      "source": "data['technician'].nunique()",
      "metadata": {
        "trusted": true
      },
      "execution_count": 42,
      "outputs": [
        {
          "execution_count": 42,
          "output_type": "execute_result",
          "data": {
            "text/plain": "21"
          },
          "metadata": {}
        }
      ]
    },
    {
      "cell_type": "markdown",
      "source": "10. What is the most frequent occupation?",
      "metadata": {}
    },
    {
      "cell_type": "code",
      "source": "data['technician'].value_counts().idxmax()",
      "metadata": {
        "trusted": true
      },
      "execution_count": 43,
      "outputs": [
        {
          "execution_count": 43,
          "output_type": "execute_result",
          "data": {
            "text/plain": "'student'"
          },
          "metadata": {}
        }
      ]
    },
    {
      "cell_type": "markdown",
      "source": "11. What is the mean age of users?",
      "metadata": {}
    },
    {
      "cell_type": "code",
      "source": "data.loc[ : , '24'].mean()",
      "metadata": {
        "trusted": true
      },
      "execution_count": 58,
      "outputs": [
        {
          "execution_count": 58,
          "output_type": "execute_result",
          "data": {
            "text/plain": "34.06263269639066"
          },
          "metadata": {}
        }
      ]
    },
    {
      "cell_type": "markdown",
      "source": "12. What is the age with least occurrence?",
      "metadata": {}
    },
    {
      "cell_type": "code",
      "source": "data['24'].value_counts().idxmin()",
      "metadata": {
        "trusted": true
      },
      "execution_count": 59,
      "outputs": [
        {
          "execution_count": 59,
          "output_type": "execute_result",
          "data": {
            "text/plain": "66"
          },
          "metadata": {}
        }
      ]
    },
    {
      "cell_type": "code",
      "source": "",
      "metadata": {},
      "execution_count": null,
      "outputs": []
    }
  ]
}