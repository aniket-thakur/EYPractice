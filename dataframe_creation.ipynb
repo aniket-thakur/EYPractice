{
  "metadata": {
    "language_info": {
      "codemirror_mode": {
        "name": "python",
        "version": 3
      },
      "file_extension": ".py",
      "mimetype": "text/x-python",
      "name": "python",
      "nbconvert_exporter": "python",
      "pygments_lexer": "ipython3",
      "version": "3.8"
    },
    "kernelspec": {
      "name": "python",
      "display_name": "Python (Pyodide)",
      "language": "python"
    }
  },
  "nbformat_minor": 4,
  "nbformat": 4,
  "cells": [
    {
      "cell_type": "markdown",
      "source": "Create a dataframe from a dictionary where the keys are the names of countries, the values are the gdp and indices are last 10 years. Now try to find the average gdp combined for all countries over past 10 years.",
      "metadata": {}
    },
    {
      "cell_type": "code",
      "source": "import numpy as np\nimport pandas as pd\nname =  [\"US\",\"China\",\"Japan\",\"Germany\",\"India\",\"UK\",\"France\",\"Brazil\",\"Italy\",\"Canada\"]\ngdp = {country : [np.random.randint(100,1000) for _ in range(10)] for country in name}\n",
      "metadata": {
        "trusted": true
      },
      "execution_count": 8,
      "outputs": []
    },
    {
      "cell_type": "code",
      "source": "gdp",
      "metadata": {
        "trusted": true
      },
      "execution_count": 10,
      "outputs": [
        {
          "execution_count": 10,
          "output_type": "execute_result",
          "data": {
            "text/plain": "{'US': [113, 174, 857, 522, 574, 885, 604, 947, 624, 942],\n 'China': [716, 205, 196, 284, 457, 403, 986, 335, 149, 542],\n 'Japan': [802, 599, 951, 498, 115, 333, 601, 875, 678, 803],\n 'Germany': [623, 467, 996, 192, 930, 145, 309, 750, 362, 753],\n 'India': [268, 766, 640, 915, 161, 533, 851, 489, 345, 812],\n 'UK': [341, 914, 353, 730, 507, 430, 938, 758, 929, 288],\n 'France': [985, 318, 877, 439, 943, 789, 656, 549, 587, 463],\n 'Brazil': [134, 181, 324, 714, 400, 845, 741, 415, 967, 304],\n 'Italy': [718, 842, 920, 613, 221, 840, 339, 728, 935, 408],\n 'Canada': [498, 995, 713, 438, 850, 543, 418, 933, 669, 971]}"
          },
          "metadata": {}
        }
      ]
    },
    {
      "cell_type": "code",
      "source": "dataframe = pd.DataFrame(gdp, index= range(2012,2022))",
      "metadata": {
        "trusted": true
      },
      "execution_count": 11,
      "outputs": []
    },
    {
      "cell_type": "code",
      "source": "dataframe",
      "metadata": {
        "trusted": true
      },
      "execution_count": 12,
      "outputs": [
        {
          "execution_count": 12,
          "output_type": "execute_result",
          "data": {
            "text/plain": "       US  China  Japan  Germany  India   UK  France  Brazil  Italy  Canada\n2012  113    716    802      623    268  341     985     134    718     498\n2013  174    205    599      467    766  914     318     181    842     995\n2014  857    196    951      996    640  353     877     324    920     713\n2015  522    284    498      192    915  730     439     714    613     438\n2016  574    457    115      930    161  507     943     400    221     850\n2017  885    403    333      145    533  430     789     845    840     543\n2018  604    986    601      309    851  938     656     741    339     418\n2019  947    335    875      750    489  758     549     415    728     933\n2020  624    149    678      362    345  929     587     967    935     669\n2021  942    542    803      753    812  288     463     304    408     971",
            "text/html": "<div>\n<style scoped>\n    .dataframe tbody tr th:only-of-type {\n        vertical-align: middle;\n    }\n\n    .dataframe tbody tr th {\n        vertical-align: top;\n    }\n\n    .dataframe thead th {\n        text-align: right;\n    }\n</style>\n<table border=\"1\" class=\"dataframe\">\n  <thead>\n    <tr style=\"text-align: right;\">\n      <th></th>\n      <th>US</th>\n      <th>China</th>\n      <th>Japan</th>\n      <th>Germany</th>\n      <th>India</th>\n      <th>UK</th>\n      <th>France</th>\n      <th>Brazil</th>\n      <th>Italy</th>\n      <th>Canada</th>\n    </tr>\n  </thead>\n  <tbody>\n    <tr>\n      <th>2012</th>\n      <td>113</td>\n      <td>716</td>\n      <td>802</td>\n      <td>623</td>\n      <td>268</td>\n      <td>341</td>\n      <td>985</td>\n      <td>134</td>\n      <td>718</td>\n      <td>498</td>\n    </tr>\n    <tr>\n      <th>2013</th>\n      <td>174</td>\n      <td>205</td>\n      <td>599</td>\n      <td>467</td>\n      <td>766</td>\n      <td>914</td>\n      <td>318</td>\n      <td>181</td>\n      <td>842</td>\n      <td>995</td>\n    </tr>\n    <tr>\n      <th>2014</th>\n      <td>857</td>\n      <td>196</td>\n      <td>951</td>\n      <td>996</td>\n      <td>640</td>\n      <td>353</td>\n      <td>877</td>\n      <td>324</td>\n      <td>920</td>\n      <td>713</td>\n    </tr>\n    <tr>\n      <th>2015</th>\n      <td>522</td>\n      <td>284</td>\n      <td>498</td>\n      <td>192</td>\n      <td>915</td>\n      <td>730</td>\n      <td>439</td>\n      <td>714</td>\n      <td>613</td>\n      <td>438</td>\n    </tr>\n    <tr>\n      <th>2016</th>\n      <td>574</td>\n      <td>457</td>\n      <td>115</td>\n      <td>930</td>\n      <td>161</td>\n      <td>507</td>\n      <td>943</td>\n      <td>400</td>\n      <td>221</td>\n      <td>850</td>\n    </tr>\n    <tr>\n      <th>2017</th>\n      <td>885</td>\n      <td>403</td>\n      <td>333</td>\n      <td>145</td>\n      <td>533</td>\n      <td>430</td>\n      <td>789</td>\n      <td>845</td>\n      <td>840</td>\n      <td>543</td>\n    </tr>\n    <tr>\n      <th>2018</th>\n      <td>604</td>\n      <td>986</td>\n      <td>601</td>\n      <td>309</td>\n      <td>851</td>\n      <td>938</td>\n      <td>656</td>\n      <td>741</td>\n      <td>339</td>\n      <td>418</td>\n    </tr>\n    <tr>\n      <th>2019</th>\n      <td>947</td>\n      <td>335</td>\n      <td>875</td>\n      <td>750</td>\n      <td>489</td>\n      <td>758</td>\n      <td>549</td>\n      <td>415</td>\n      <td>728</td>\n      <td>933</td>\n    </tr>\n    <tr>\n      <th>2020</th>\n      <td>624</td>\n      <td>149</td>\n      <td>678</td>\n      <td>362</td>\n      <td>345</td>\n      <td>929</td>\n      <td>587</td>\n      <td>967</td>\n      <td>935</td>\n      <td>669</td>\n    </tr>\n    <tr>\n      <th>2021</th>\n      <td>942</td>\n      <td>542</td>\n      <td>803</td>\n      <td>753</td>\n      <td>812</td>\n      <td>288</td>\n      <td>463</td>\n      <td>304</td>\n      <td>408</td>\n      <td>971</td>\n    </tr>\n  </tbody>\n</table>\n</div>"
          },
          "metadata": {}
        }
      ]
    },
    {
      "cell_type": "code",
      "source": " d = dataframe.mean()\nd",
      "metadata": {
        "trusted": true
      },
      "execution_count": 23,
      "outputs": [
        {
          "execution_count": 23,
          "output_type": "execute_result",
          "data": {
            "text/plain": "US         624.2\nChina      427.3\nJapan      625.5\nGermany    552.7\nIndia      578.0\nUK         618.8\nFrance     660.6\nBrazil     502.5\nItaly      656.4\nCanada     702.8\ndtype: float64"
          },
          "metadata": {}
        }
      ]
    },
    {
      "cell_type": "code",
      "source": "d.mean()",
      "metadata": {
        "trusted": true
      },
      "execution_count": 24,
      "outputs": [
        {
          "execution_count": 24,
          "output_type": "execute_result",
          "data": {
            "text/plain": "594.8799999999999"
          },
          "metadata": {}
        }
      ]
    },
    {
      "cell_type": "code",
      "source": "",
      "metadata": {},
      "execution_count": null,
      "outputs": []
    }
  ]
}