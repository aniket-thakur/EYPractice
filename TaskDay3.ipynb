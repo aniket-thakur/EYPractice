{
  "metadata": {
    "language_info": {
      "codemirror_mode": {
        "name": "python",
        "version": 3
      },
      "file_extension": ".py",
      "mimetype": "text/x-python",
      "name": "python",
      "nbconvert_exporter": "python",
      "pygments_lexer": "ipython3",
      "version": "3.8"
    },
    "kernelspec": {
      "name": "python",
      "display_name": "Python (Pyodide)",
      "language": "python"
    }
  },
  "nbformat_minor": 4,
  "nbformat": 4,
  "cells": [
    {
      "cell_type": "markdown",
      "source": " Create a null vector of size 10 but the fifth value which is 1 ",
      "metadata": {}
    },
    {
      "cell_type": "code",
      "source": "import numpy as np\narr = np.zeros(10)\narr[4] = 1\narr\n",
      "metadata": {
        "trusted": true
      },
      "execution_count": 5,
      "outputs": [
        {
          "execution_count": 5,
          "output_type": "execute_result",
          "data": {
            "text/plain": "array([0., 0., 0., 0., 1., 0., 0., 0., 0., 0.])"
          },
          "metadata": {}
        }
      ]
    },
    {
      "cell_type": "markdown",
      "source": "Create a vector with values ranging from 10 to 49",
      "metadata": {}
    },
    {
      "cell_type": "code",
      "source": "arr1 = np.arange(10,49)\narr1",
      "metadata": {
        "trusted": true
      },
      "execution_count": 7,
      "outputs": [
        {
          "execution_count": 7,
          "output_type": "execute_result",
          "data": {
            "text/plain": "array([10, 11, 12, 13, 14, 15, 16, 17, 18, 19, 20, 21, 22, 23, 24, 25, 26,\n       27, 28, 29, 30, 31, 32, 33, 34, 35, 36, 37, 38, 39, 40, 41, 42, 43,\n       44, 45, 46, 47, 48])"
          },
          "metadata": {}
        }
      ]
    },
    {
      "cell_type": "markdown",
      "source": "Reverse  a vector",
      "metadata": {}
    },
    {
      "cell_type": "code",
      "source": "arr = np.array([1,2,3,4,5,6])\narr_rev = np.flip(arr)\narr_rev",
      "metadata": {
        "trusted": true
      },
      "execution_count": 14,
      "outputs": [
        {
          "execution_count": 14,
          "output_type": "execute_result",
          "data": {
            "text/plain": "array([6, 5, 4, 3, 2, 1])"
          },
          "metadata": {}
        }
      ]
    },
    {
      "cell_type": "markdown",
      "source": " Create a 3x3 matrix with values ranging from 0 to 8",
      "metadata": {}
    },
    {
      "cell_type": "code",
      "source": "arr = np.array([[1,2,3],[4,5,6],[7,8,9]])\narr",
      "metadata": {
        "trusted": true
      },
      "execution_count": 17,
      "outputs": [
        {
          "execution_count": 17,
          "output_type": "execute_result",
          "data": {
            "text/plain": "array([[1, 2, 3],\n       [4, 5, 6],\n       [7, 8, 9]])"
          },
          "metadata": {}
        }
      ]
    },
    {
      "cell_type": "code",
      "source": "arr.shape",
      "metadata": {
        "trusted": true
      },
      "execution_count": 20,
      "outputs": [
        {
          "execution_count": 20,
          "output_type": "execute_result",
          "data": {
            "text/plain": "(3, 3)"
          },
          "metadata": {}
        }
      ]
    },
    {
      "cell_type": "markdown",
      "source": " Find indices of non-zero elements from [1,2,0,0,4,0]\n ",
      "metadata": {}
    },
    {
      "cell_type": "code",
      "source": "arr = np.array([1,2,0,0,4,0])\nprint(np.nonzero(arr)[0])",
      "metadata": {
        "trusted": true
      },
      "execution_count": 28,
      "outputs": [
        {
          "name": "stdout",
          "text": "[0 1 4]\n",
          "output_type": "stream"
        }
      ]
    },
    {
      "cell_type": "code",
      "source": "np.nonzero?",
      "metadata": {
        "trusted": true
      },
      "execution_count": 24,
      "outputs": [
        {
          "name": "stdout",
          "text": "\u001b[0;31mSignature:\u001b[0m \u001b[0mnp\u001b[0m\u001b[0;34m.\u001b[0m\u001b[0mnonzero\u001b[0m\u001b[0;34m(\u001b[0m\u001b[0ma\u001b[0m\u001b[0;34m)\u001b[0m\u001b[0;34m\u001b[0m\u001b[0;34m\u001b[0m\u001b[0m\n\u001b[0;31mDocstring:\u001b[0m\nReturn the indices of the elements that are non-zero.\n\nReturns a tuple of arrays, one for each dimension of `a`,\ncontaining the indices of the non-zero elements in that\ndimension. The values in `a` are always tested and returned in\nrow-major, C-style order.\n\nTo group the indices by element, rather than dimension, use `argwhere`,\nwhich returns a row for each non-zero element.\n\n.. note::\n\n   When called on a zero-d array or scalar, ``nonzero(a)`` is treated\n   as ``nonzero(atleast_1d(a))``.\n\n   .. deprecated:: 1.17.0\n\n      Use `atleast_1d` explicitly if this behavior is deliberate.\n\nParameters\n----------\na : array_like\n    Input array.\n\nReturns\n-------\ntuple_of_arrays : tuple\n    Indices of elements that are non-zero.\n\nSee Also\n--------\nflatnonzero :\n    Return indices that are non-zero in the flattened version of the input\n    array.\nndarray.nonzero :\n    Equivalent ndarray method.\ncount_nonzero :\n    Counts the number of non-zero elements in the input array.\n\nNotes\n-----\nWhile the nonzero values can be obtained with ``a[nonzero(a)]``, it is\nrecommended to use ``x[x.astype(bool)]`` or ``x[x != 0]`` instead, which\nwill correctly handle 0-d arrays.\n\nExamples\n--------\n>>> x = np.array([[3, 0, 0], [0, 4, 0], [5, 6, 0]])\n>>> x\narray([[3, 0, 0],\n       [0, 4, 0],\n       [5, 6, 0]])\n>>> np.nonzero(x)\n(array([0, 1, 2, 2]), array([0, 1, 0, 1]))\n\n>>> x[np.nonzero(x)]\narray([3, 4, 5, 6])\n>>> np.transpose(np.nonzero(x))\narray([[0, 0],\n       [1, 1],\n       [2, 0],\n       [2, 1]])\n\nA common use for ``nonzero`` is to find the indices of an array, where\na condition is True.  Given an array `a`, the condition `a` > 3 is a\nboolean array and since False is interpreted as 0, np.nonzero(a > 3)\nyields the indices of the `a` where the condition is true.\n\n>>> a = np.array([[1, 2, 3], [4, 5, 6], [7, 8, 9]])\n>>> a > 3\narray([[False, False, False],\n       [ True,  True,  True],\n       [ True,  True,  True]])\n>>> np.nonzero(a > 3)\n(array([1, 1, 1, 2, 2, 2]), array([0, 1, 2, 0, 1, 2]))\n\nUsing this result to index `a` is equivalent to using the mask directly:\n\n>>> a[np.nonzero(a > 3)]\narray([4, 5, 6, 7, 8, 9])\n>>> a[a > 3]  # prefer this spelling\narray([4, 5, 6, 7, 8, 9])\n\n``nonzero`` can also be called as a method of the array.\n\n>>> (a > 3).nonzero()\n(array([1, 1, 1, 2, 2, 2]), array([0, 1, 2, 0, 1, 2]))\n\u001b[0;31mFile:\u001b[0m      /lib/python3.11/site-packages/numpy/core/fromnumeric.py\n\u001b[0;31mType:\u001b[0m      function\n",
          "output_type": "stream"
        }
      ]
    },
    {
      "cell_type": "markdown",
      "source": " Create a 3x3x3 array with random values",
      "metadata": {}
    },
    {
      "cell_type": "code",
      "source": "arr = np.random.randint(0,10,size=(3,3,3))\narr",
      "metadata": {
        "trusted": true
      },
      "execution_count": 52,
      "outputs": [
        {
          "execution_count": 52,
          "output_type": "execute_result",
          "data": {
            "text/plain": "array([[[3, 7, 2],\n        [2, 7, 3],\n        [9, 6, 2]],\n\n       [[5, 8, 3],\n        [6, 7, 4],\n        [2, 6, 2]],\n\n       [[5, 7, 8],\n        [7, 2, 0],\n        [3, 9, 2]]])"
          },
          "metadata": {}
        }
      ]
    },
    {
      "cell_type": "markdown",
      "source": "Create a 10x10 array with random values and find the minimum and maximum values",
      "metadata": {}
    },
    {
      "cell_type": "code",
      "source": "arr = np.random.randint(0,10, size=(10,10))\n# print(\"Max\",arr.max())\n# print(\"Min\",arr.min())\nprint(arr)\n",
      "metadata": {
        "trusted": true
      },
      "execution_count": 51,
      "outputs": [
        {
          "name": "stdout",
          "text": "[[9 6 1 1 1 7 1 4 2 9]\n [8 0 6 2 8 9 9 6 1 9]\n [3 1 2 2 6 1 9 3 5 8]\n [7 6 9 7 2 4 4 4 9 4]\n [9 9 3 6 9 7 8 7 3 5]\n [4 7 2 0 2 2 6 3 3 3]\n [4 8 1 4 5 4 7 9 3 1]\n [9 7 2 3 2 5 6 9 9 0]\n [6 1 8 4 8 9 1 7 7 5]\n [9 3 5 3 1 5 8 9 4 6]]\n",
          "output_type": "stream"
        }
      ]
    },
    {
      "cell_type": "markdown",
      "source": "Create a 2d array with 1 on the border and 0 inside\n",
      "metadata": {}
    },
    {
      "cell_type": "code",
      "source": "arr = np.zeros((4,4), dtype = int)\narr[0, :] = 1  # Top Row\narr[: , 0] = 1 # Left Column\narr[: ,-1] = 1 # Right column\narr[-1, :] = 1 # Bottom column\narr",
      "metadata": {
        "trusted": true
      },
      "execution_count": 71,
      "outputs": [
        {
          "execution_count": 71,
          "output_type": "execute_result",
          "data": {
            "text/plain": "array([[1, 1, 1, 1],\n       [1, 0, 0, 1],\n       [1, 0, 0, 1],\n       [1, 1, 1, 1]])"
          },
          "metadata": {}
        }
      ]
    },
    {
      "cell_type": "code",
      "source": "arr.dtype",
      "metadata": {
        "trusted": true
      },
      "execution_count": 61,
      "outputs": [
        {
          "execution_count": 61,
          "output_type": "execute_result",
          "data": {
            "text/plain": "dtype('int32')"
          },
          "metadata": {}
        }
      ]
    },
    {
      "cell_type": "code",
      "source": "",
      "metadata": {},
      "execution_count": null,
      "outputs": []
    }
  ]
}